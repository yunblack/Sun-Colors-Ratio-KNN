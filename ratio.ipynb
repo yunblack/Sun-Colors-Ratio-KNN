{
 "cells": [
  {
   "cell_type": "code",
   "execution_count": 171,
   "metadata": {
    "scrolled": false
   },
   "outputs": [
    {
     "name": "stdout",
     "output_type": "stream",
     "text": [
      "2021-07-20\n"
     ]
    },
    {
     "data": {
      "image/png": "[encoded data removed]",
      "text/plain": [
       "<Figure size 1080x576 with 1 Axes>"
      ]
     },
     "metadata": {
      "needs_background": "light"
     },
     "output_type": "display_data"
    },
    {
     "name": "stdout",
     "output_type": "stream",
     "text": [
      "2021-07-19\n"
     ]
    },
    {
     "data": {
      "image/png": "[encoded data removed]",
      "text/plain": [
       "<Figure size 1080x576 with 1 Axes>"
      ]
     },
     "metadata": {
      "needs_background": "light"
     },
     "output_type": "display_data"
    },
    {
     "name": "stdout",
     "output_type": "stream",
     "text": [
      "2021-07-18\n"
     ]
    },
    {
     "data": {
      "image/png": "[encoded data removed]",
      "text/plain": [
       "<Figure size 1080x576 with 1 Axes>"
      ]
     },
     "metadata": {
      "needs_background": "light"
     },
     "output_type": "display_data"
    },
    {
     "name": "stdout",
     "output_type": "stream",
     "text": [
      "2021-07-17\n"
     ]
    },
    {
     "data": {
      "image/png": "[encoded data removed]",
      "text/plain": [
       "<Figure size 1080x576 with 1 Axes>"
      ]
     },
     "metadata": {
      "needs_background": "light"
     },
     "output_type": "display_data"
    },
    {
     "name": "stdout",
     "output_type": "stream",
     "text": [
      "2021-07-16\n"
     ]
    },
    {
     "data": {
      "image/png": "[encoded data removed]",
      "text/plain": [
       "<Figure size 1080x576 with 1 Axes>"
      ]
     },
     "metadata": {
      "needs_background": "light"
     },
     "output_type": "display_data"
    }
   ],
   "source": [
    "import math\n",
    "import cv2\n",
    "import numpy as np \n",
    "from matplotlib import pyplot as plt\n",
    "from sklearn.cluster import KMeans\n",
    "\n",
    "def BGR2RGB(img):\n",
    "    img = cv2.cvtColor(img, cv2.COLOR_BGR2RGB)\n",
    "    return img\n",
    "\n",
    "def resize(img, x ,y):\n",
    "    img = cv2.resize(img , dsize=(x, y), interpolation=cv2.INTER_AREA)\n",
    "    return img\n",
    "\n",
    "def crop_img(img, a1, b1, r):\n",
    "    result = img2[a1-r:a1+r,b1-r:b1+r]\n",
    "    return img\n",
    "\n",
    "def remove_background(img, a1, b1, x, y, r):\n",
    "    img = img[a1-r:a1+r,b1-r:b1+r]\n",
    "    img = img[y:y+r*2, x:x+r*2]\n",
    "    mask = np.full((img.shape[0], img.shape[1]), 0, dtype=np.uint8) \n",
    "    cv2.circle(mask,(r,r), r, (255, 255, 255),-1)\n",
    "    fg = cv2.bitwise_or(img, img, mask=mask)\n",
    "    mask = cv2.bitwise_not(mask)\n",
    "    background = np.full(img.shape, 255, dtype=np.uint8)\n",
    "    bk = cv2.bitwise_or(background, background, mask=mask)\n",
    "    img = cv2.bitwise_or(fg, bk)\n",
    "    return img\n",
    "\n",
    "def img_reshape(img):\n",
    "    img = img.reshape((img.shape[0] * img.shape[1], 3))\n",
    "    return img\n",
    "\n",
    "def centroid(clt):\n",
    "    numLabels = np.arange(0, len(np.unique(clt.labels_)) + 1)\n",
    "    (data, _) = np.histogram(clt.labels_, bins=numLabels)\n",
    "    data = data.astype(\"float\")\n",
    "    data /= data.sum()\n",
    "    return data\n",
    "\n",
    "def plotColors(data, centroids):\n",
    "    bar = np.zeros((50, 300, 3), dtype=\"uint8\")\n",
    "    startNum = 0\n",
    "    zipdata = []\n",
    "    for i in range(0, len(centroids)):\n",
    "        zipdata.append([[centroids[i][0], centroids[i][1], centroids[i][2]], data[i]])\n",
    "    zipdata.sort()\n",
    "    n1 = []\n",
    "    n2 = []\n",
    "    for i in range(0, len(zipdata)):\n",
    "        n1.append(zipdata[i][0])\n",
    "    for i in range(0, len(zipdata)):\n",
    "        n2.append(zipdata[i][1])\n",
    "    n1 = np.array(n1)\n",
    "    for (percent, color) in zip(n2, n1):\n",
    "        endNum = startNum + (percent * 300)\n",
    "        cv2.rectangle(bar, (int(startNum), 0), (int(endNum), 50), color.astype(\"uint8\").tolist(), -1)\n",
    "        startNum = endNum\n",
    "    return bar\n",
    "\n",
    "def drawPlot(data, clt):\n",
    "    bar = plotColors(data, clt.cluster_centers_)\n",
    "    plt.rcParams[\"figure.figsize\"] = (15,8)\n",
    "    plt.axis(\"off\")\n",
    "    plt.imshow(bar)\n",
    "    plt.show()\n",
    "\n",
    "def printColorData(clt):\n",
    "    for center in clt.cluster_centers_:\n",
    "        print(center)\n",
    "    \n",
    "def KNN(k):\n",
    "    clt = KMeans(n_clusters = k)\n",
    "    return clt\n",
    "\n",
    "def imageProcessing(img):\n",
    "    img2 = img.copy()\n",
    "    img2 = resize(BGR2RGB(img2), 250, 250)\n",
    "    img2 = remove_background(img2, 125, 125, 0, 0, 100)\n",
    "    img2 = img_reshape(img2)\n",
    "    return img2\n",
    "\n",
    "def analyzingImage(img, k):\n",
    "    img2 = imageProcessing(img)\n",
    "    clt = KNN(k)\n",
    "    clt.fit(img2)\n",
    "    data = centroid(clt)\n",
    "    drawPlot(data, clt)\n",
    "    \n",
    "    \"\"\"\n",
    "    colorsRatio = []\n",
    "    i = 0\n",
    "    for center in clt.cluster_centers_:\n",
    "        colorsRatio.append([[int(center[0]), int(center[1]), int(center[2])], round(data[i]*100, 2)])\n",
    "        i += 1\n",
    "    colorsRatio.sort()\n",
    "    for j in range(0, len(colorsRatio)):\n",
    "        print(colorsRatio[j][0],':', colorsRatio[j][1],'%')\n",
    "    \"\"\"\n",
    "\n",
    "def main():\n",
    "    print(\"2021-07-20\")\n",
    "    img = cv2.imread('./DATA/20210720.jpg')\n",
    "    analyzingImage(img, 10) \n",
    "    print(\"2021-07-19\")\n",
    "    img = cv2.imread('./DATA/20210719.jpg')\n",
    "    analyzingImage(img, 10)    \n",
    "    print(\"2021-07-18\")\n",
    "    img = cv2.imread('./DATA/20210718.jpg')\n",
    "    analyzingImage(img, 10)    \n",
    "    print(\"2021-07-17\")\n",
    "    img = cv2.imread('./DATA/20210717.jpg')\n",
    "    analyzingImage(img, 10)    \n",
    "    print(\"2021-07-16\")\n",
    "    img = cv2.imread('./DATA/20210716.jpg')\n",
    "    analyzingImage(img, 10)\n",
    "    \n",
    "if __name__ == \"__main__\":\n",
    "    main()"
   ]
  },
  {
   "cell_type": "code",
   "execution_count": null,
   "metadata": {},
   "outputs": [],
   "source": []
  }
 ],
 "metadata": {
  "kernelspec": {
   "display_name": "Python 3",
   "language": "python",
   "name": "python3"
  },
  "language_info": {
   "codemirror_mode": {
    "name": "ipython",
    "version": 3
   },
   "file_extension": ".py",
   "mimetype": "text/x-python",
   "name": "python",
   "nbconvert_exporter": "python",
   "pygments_lexer": "ipython3",
   "version": "3.8.10"
  }
 },
 "nbformat": 4,
 "nbformat_minor": 4
}
